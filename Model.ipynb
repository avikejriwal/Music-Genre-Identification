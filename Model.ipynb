{
 "cells": [
  {
   "cell_type": "markdown",
   "metadata": {},
   "source": [
    "# Load model and signal processing functions"
   ]
  },
  {
   "cell_type": "code",
   "execution_count": 1,
   "metadata": {
    "collapsed": true
   },
   "outputs": [],
   "source": [
    "import pickle as pkl\n",
    "\n",
    "#Load the data\n",
    "with open('model.pkl', 'rb') as file:\n",
    "    pipe, lbenc = pkl.load(file)"
   ]
  },
  {
   "cell_type": "code",
   "execution_count": 2,
   "metadata": {
    "collapsed": true
   },
   "outputs": [],
   "source": [
    "#Read audio data from files\n",
    "#Using ffmpeg\n",
    "\n",
    "import numpy as np\n",
    "import subprocess as sp\n",
    "import librosa\n",
    "\n",
    "duration = 30\n",
    "\n",
    "def get_waveform(filename, mono=True, duration=30, delay=0, sr=22050):\n",
    "    if mono:\n",
    "        n_channels = 1\n",
    "    else:\n",
    "        n_channels = 2 # n_channels: 2 for stereo, 1 for mono\n",
    "    \n",
    "    command = [ 'ffmpeg',\n",
    "            '-i', filename,\n",
    "            '-f', 's16le',\n",
    "            '-ss', str(delay),\n",
    "            '-t', str(duration),\n",
    "            '-acodec', 'pcm_s16le',\n",
    "            '-ar', str(sr),\n",
    "            '-ac', str(n_channels),\n",
    "            '-']\n",
    "    proc = sp.run(command, stdout=sp.PIPE, bufsize=duration*sr, stderr=None, check=False) #stderr=sp.DEVNULL\n",
    "    audio_array = np.fromstring(proc.stdout, dtype=\"int16\")\n",
    "    \n",
    "    audio_array = librosa.util.normalize(audio_array)\n",
    "    \n",
    "    return audio_array, sr"
   ]
  },
  {
   "cell_type": "code",
   "execution_count": 3,
   "metadata": {
    "collapsed": true
   },
   "outputs": [],
   "source": [
    "from librosa.effects import harmonic\n",
    "from librosa.effects import hpss\n",
    "from librosa.feature import spectral_contrast\n",
    "from scipy.stats import skew, kurtosis\n",
    "\n",
    "#Generate the Feature vector\n",
    "\n",
    "#Harmonic-Percussive Source Separation\n",
    "def get_harm(data, n=13):\n",
    "    y_harm, y_perc = hpss(data)\n",
    "    return np.concatenate((get_mfcc(y_harm, n), get_mfcc(y_perc, n), get_spect(data)))\n",
    "\n",
    "#MFCC\n",
    "def get_mfcc(data, n_mfcc=13):\n",
    "    mfcc = librosa.feature.mfcc(y=data, sr=22050, n_mfcc=n_mfcc, n_fft = 2048, hop_length=512, n_mels=40, power=2.0)\n",
    "    \n",
    "    mean = np.mean(mfcc, axis=1)\n",
    "    var = np.std(mfcc, axis=1)\n",
    "    \n",
    "    derv = np.gradient(mfcc, axis=1)\n",
    "    derv2 = np.gradient(derv, axis=1)\n",
    "    \n",
    "    derv_mean = np.mean(derv,axis=1)\n",
    "    derv_var = np.std(derv,axis=1)\n",
    "    \n",
    "    derv2_mean = np.mean(derv2,axis=1)\n",
    "    derv2_var = np.std(derv2,axis=1)\n",
    "    \n",
    "    ret = np.concatenate((mean,var,derv_mean, derv_var, derv2_mean, derv2_var))\n",
    "    return ret\n",
    "\n",
    "#Spectral contrast\n",
    "def get_spect(data):\n",
    "    spec_cont = spectral_contrast(data)\n",
    "    \n",
    "    mean = np.mean(spec_cont,axis=1)\n",
    "    var = np.std(spec_cont, axis=1)\n",
    "    \n",
    "    derv = np.gradient(spec_cont, axis=1)\n",
    "    derv2 = np.gradient(derv, axis=1)\n",
    "    \n",
    "    derv_mean = np.mean(derv,axis=1)\n",
    "    derv_var = np.std(derv,axis=1)\n",
    "    \n",
    "    derv2_mean = np.mean(derv2,axis=1)\n",
    "    derv2_var = np.std(derv2,axis=1)\n",
    "    \n",
    "    ret = np.concatenate((mean,var,derv_mean, derv_var, derv2_mean, derv2_var, \\\n",
    "                          skew(spec_cont, axis=1), kurtosis(spec_cont, axis=1)))\n",
    "    return ret"
   ]
  },
  {
   "cell_type": "markdown",
   "metadata": {},
   "source": [
    "# Plot predictions"
   ]
  },
  {
   "cell_type": "code",
   "execution_count": 19,
   "metadata": {},
   "outputs": [
    {
     "data": {
      "image/png": "[encoded data removed]",
      "text/plain": [
       "<matplotlib.figure.Figure at 0x7fd1676e5b70>"
      ]
     },
     "metadata": {},
     "output_type": "display_data"
    }
   ],
   "source": [
    "# Get distribution of top genres for a song\n",
    "\n",
    "filename = 'songs/Despacito.mp3'\n",
    "\n",
    "tags = {}\n",
    "\n",
    "#135 for WTTJ, 30 for Despacito\n",
    "\n",
    "delay = 135\n",
    "a, sr = get_waveform(filename, mono=True, duration=30, delay=delay, sr=22050)\n",
    "# feed it into the signal processing pipeline to get a feature vector\n",
    "vec = get_harm(a).reshape(1,-1)\n",
    "\n",
    "# run predictions on the feature vector\n",
    "for i, score in enumerate(pipe.predict_proba(vec)[0]):\n",
    "    tags[lbenc.inverse_transform(i)] = score\n",
    "\n",
    "vals = sorted([(key, val) for key, val in tags.items()], key=lambda x: x[1], reverse=True)\n",
    "v1,v2 = zip(*vals)\n",
    "\n",
    "#Sort values arbitrarily\n",
    "v1 = ['Rock','Pop','Experimental', 'Instrumental', 'Hip-Hop', 'Electronic','Folk', 'International']\n",
    "v2 = [tags[i] for i in v1]\n",
    "\n",
    "from matplotlib import pyplot as plt\n",
    "import seaborn as sns\n",
    "%matplotlib inline\n",
    "\n",
    "sns.set(font_scale=1.7)\n",
    "sns.set_style(None)\n",
    "\n",
    "fig = plt.figure(figsize=(8, 8))\n",
    "g = sns.barplot(x=v1, y=v2, palette=['blue'])\n",
    "g.set_xticklabels(labels=v1, rotation=90);\n",
    "g.set_ylabel('Genre Probability')\n",
    "g.set_xlabel('Genre')\n",
    "g.set_title('Despacito')\n",
    "g.grid(False)\n",
    "plt.ylim([0,0.6])\n",
    "plt.tight_layout()\n",
    "\n",
    "\n",
    "fig.savefig('temp.png', transparent=True)\n"
   ]
  }
 ],
 "metadata": {
  "kernelspec": {
   "display_name": "Python 3",
   "language": "python",
   "name": "python3"
  },
  "language_info": {
   "codemirror_mode": {
    "name": "ipython",
    "version": 3
   },
   "file_extension": ".py",
   "mimetype": "text/x-python",
   "name": "python",
   "nbconvert_exporter": "python",
   "pygments_lexer": "ipython3",
   "version": "3.6.1"
  }
 },
 "nbformat": 4,
 "nbformat_minor": 2
}
